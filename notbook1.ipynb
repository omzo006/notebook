{
 "cells": [
  {
   "cell_type": "code",
   "execution_count": 1,
   "id": "a51ed1ea-f5dd-4c30-826c-e989a240b81f",
   "metadata": {},
   "outputs": [
    {
     "name": "stdout",
     "output_type": "stream",
     "text": [
      "Bienvenue dans le monde python ! Commençons à coder\n"
     ]
    }
   ],
   "source": [
    "print(\"Bienvenue dans le monde python ! Commençons à coder\")"
   ]
  },
  {
   "cell_type": "code",
   "execution_count": null,
   "id": "0f63f27c-3699-4694-89ee-804b58b49a18",
   "metadata": {},
   "outputs": [],
   "source": []
  }
 ],
 "metadata": {
  "kernelspec": {
   "display_name": "Python 3",
   "language": "python",
   "name": "python3"
  },
  "language_info": {
   "codemirror_mode": {
    "name": "ipython",
    "version": 3
   },
   "file_extension": ".py",
   "mimetype": "text/x-python",
   "name": "python",
   "nbconvert_exporter": "python",
   "pygments_lexer": "ipython3",
   "version": "3.8.8"
  }
 },
 "nbformat": 4,
 "nbformat_minor": 5
}
